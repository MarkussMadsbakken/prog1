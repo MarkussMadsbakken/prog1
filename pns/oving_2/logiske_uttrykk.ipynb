{
 "cells": [
  {
   "attachments": {},
   "cell_type": "markdown",
   "metadata": {},
   "source": [
    "# Logiske uttrykk\n",
    "\n",
    "Et logisk uttrykk er en kombinasjon av variabler, konstanter og operatorer som resulterer i en sannhetsverdi, enten **True** eller **False**. Logiske uttrykk brukes i programmering til å evaluere om gitte betingelser er sanne eller falske, og kan brukes til å styre utførelsen av kodeblokker ved hjelp av betingede uttalelser.\n",
    "\n",
    "\n",
    "Logiske uttrykk består vanligvis av en eller flere betingelser som blir sammenlignet ved hjelp av logiske operatorer som **and**, **or** og **not**. Disse operatorer kan brukes til å kombinere betingelser og uttrykk på en logisk måte."
   ]
  },
  {
   "cell_type": "code",
   "execution_count": null,
   "metadata": {},
   "outputs": [],
   "source": [
    "x = 5\n",
    "y = 10\n",
    "\n",
    "# Sammenligning av verdier\n",
    "x == y     # False\n",
    "x < y      # True\n",
    "x >= y     # False\n",
    "\n",
    "# Bruk av logiske operatorer\n",
    "x < 10 and y > 5    # True\n",
    "x < 10 or y < 5     # True\n",
    "not(x < 10 and y > 5)   # False"
   ]
  },
  {
   "cell_type": "code",
   "execution_count": null,
   "metadata": {},
   "outputs": [],
   "source": [
    "# Vi kan lagre resulatet av et logisk uttrykk i en variabel\n",
    "resultat = x == y     # False\n",
    "resultat = x < y      # True\n",
    "resultat = x >= y     # False\n",
    "\n",
    "# Bruk av logiske operatorer\n",
    "resultat = x < 10 and y > 5    # True\n",
    "resultat = x < 10 or y < 5     # True\n",
    "resultat = not(x < 10 and y > 5)   # False"
   ]
  },
  {
   "cell_type": "code",
   "execution_count": null,
   "metadata": {},
   "outputs": [],
   "source": [
    "# Avansert uttrykk\n",
    "# I dette eksemplet brukes betingelsene til å sjekke om verdien av x er mellom verdiene av y og z. \n",
    "# Hvis uttrykket er sant, vil programmet skrive ut \"x is between y and z\", ellers vil det skrive ut \"x is not between y and z\".\n",
    "x = 10\n",
    "y = 5\n",
    "z = 7\n",
    "\n",
    "if x > y and x < z or x > z and x < y:\n",
    "    print(\"x is between y and z\")\n",
    "else:\n",
    "    print(\"x is not between y and z\")"
   ]
  },
  {
   "attachments": {},
   "cell_type": "markdown",
   "metadata": {},
   "source": [
    "## Oppgave a: obligatorisk\n",
    "Skriv et Python-program som ber brukeren om å oppgi to heltall og sjekker om det første tallet er større enn det andre tallet. Programmet skal skrive ut en melding som sier om uttalelsen er sann eller falsk."
   ]
  },
  {
   "cell_type": "code",
   "execution_count": 1,
   "metadata": {},
   "outputs": [
    {
     "name": "stdout",
     "output_type": "stream",
     "text": [
      "5 er større enn 2\n"
     ]
    }
   ],
   "source": [
    "# Svar\n",
    "\n",
    "a = int(input(\"Skriv inn et heltall: \"))\n",
    "b = int(input(\"Skriv inn enda ett et heltall: \"))\n",
    "\n",
    "if a > b:\n",
    "    print(f\"{a} er større enn {b}\")\n",
    "else:\n",
    "    print(f\"{a} er ikke større enn {b}\")\n",
    "\n",
    "\n"
   ]
  },
  {
   "attachments": {},
   "cell_type": "markdown",
   "metadata": {},
   "source": [
    "## Oppgave b: obligatorisk\n",
    "\n",
    "Skriv et Python-program som ber brukeren om å oppgi alder og kjønn. Hvis bruker oppgir alder større eller lik 62 og kjønn lik KVINNE, skal programmet skrive ut meldingen \"Betingelsen er oppfylt!\", ellers skal det skrive ut meldingen \"Betingelsen er ikke oppfylt!\"."
   ]
  },
  {
   "cell_type": "code",
   "execution_count": 4,
   "metadata": {},
   "outputs": [
    {
     "name": "stdout",
     "output_type": "stream",
     "text": [
      "Betingelsene er ikke oppfyllt\n"
     ]
    }
   ],
   "source": [
    "# Svar\n",
    "alder = int(input(\"Skriv inn alder: \"))\n",
    "kjn = input(\"Hvilket kjønn er du?\")\n",
    "\n",
    "if alder >= 62:\n",
    "    if(kjn == \"KVINNE\"):\n",
    "        print(\"Betingelsene er oppfyllt\")\n",
    "    else:\n",
    "        print(\"Betingelsene er ikke oppfyllt\")\n",
    "else:\n",
    "    print(\"Betingelsene er ikke oppfyllt\")\n",
    "\n",
    "\n"
   ]
  },
  {
   "attachments": {},
   "cell_type": "markdown",
   "metadata": {},
   "source": [
    "## Oppgave c: frivillig\n",
    "\n",
    "I en butikk ønsker man å tilby rabatt på varer basert på kundenes kjøpshistorikk. Hvis en kunde har kjøpt varer for mer enn 1000 kroner i løpet av de siste 30 dagene, skal kunden få 10% rabatt på alle varer ved neste kjøp. Hvis en kunde har kjøpt varer for mer enn 5000 kroner i løpet av de siste 30 dagene, skal kunden få 20% rabatt på alle varer ved neste kjøp. Skriv et Python-program som tar inn en liste med kundenes kjøpshistorikk og gir rabatt basert på reglene beskrevet over.\n",
    "\n",
    "TIPS: Her kan du importere **date** og **datetime** from pakken **datetime** samt å lage en liste purchase_history og loope gjennom det (for-løkke: dette er tema for neste forelesning, men du kan søke på nettet og lære om hvordan du bruker for-løkke i Python)"
   ]
  },
  {
   "cell_type": "code",
   "execution_count": 22,
   "metadata": {},
   "outputs": [
    {
     "name": "stdout",
     "output_type": "stream",
     "text": [
      "Kunden har kjøpt for 6000 kr de siste 30 dagene, og får rabatt på 10%\n"
     ]
    }
   ],
   "source": [
    "# Svar\n",
    "from datetime import date, datetime\n",
    "\n",
    "historikk1 = {datetime.today(): 1000, datetime(2023, 8, 1): 5000, datetime(2019, 1, 1): 10000}\n",
    "\n",
    "tot = 0\n",
    "rabatt = 0\n",
    "for dato, mengde in historikk1.items():\n",
    "    if(abs((dato-datetime.now()).days) <= 30):\n",
    "        tot += mengde\n",
    "if tot > 1000:\n",
    "    rabatt = 10\n",
    "elif tot > 5000:\n",
    "    rabatt = 20\n",
    "\n",
    "\n",
    "print(f\"Kunden har kjøpt for {tot} kr de siste 30 dagene, og får rabatt på {rabatt}%\")\n",
    "\n",
    "        \n",
    "\n"
   ]
  }
 ],
 "metadata": {
  "kernelspec": {
   "display_name": "Python 3",
   "language": "python",
   "name": "python3"
  },
  "language_info": {
   "codemirror_mode": {
    "name": "ipython",
    "version": 3
   },
   "file_extension": ".py",
   "mimetype": "text/x-python",
   "name": "python",
   "nbconvert_exporter": "python",
   "pygments_lexer": "ipython3",
   "version": "3.9.6"
  },
  "orig_nbformat": 4
 },
 "nbformat": 4,
 "nbformat_minor": 2
}
