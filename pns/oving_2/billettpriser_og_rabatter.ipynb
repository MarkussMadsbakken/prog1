{
 "cells": [
  {
   "cell_type": "markdown",
   "metadata": {},
   "source": [
    "# Billettpriser og rabatter\n",
    "\n",
    "**Læringsmål:**\n",
    "\n",
    "* Betingelser\n",
    "\n",
    "I denne oppgaven skal du bruke betingelser (if-elif-else) til å bestemme billettprisen til en bruker basert på input fra brukeren. \n",
    "\n",
    "Transportselskapet «TravelevatoR» tilbyr reiser fra Trondheim til Pythonville. Ved bestilling minst 14 dager før man skal reise, kan man få minipris 199. Normal billett koster 440. "
   ]
  },
  {
   "cell_type": "markdown",
   "metadata": {
    "deletable": false,
    "editable": false,
    "run_control": {
     "frozen": true
    }
   },
   "source": [
    "## Oppgave a: frivillig"
   ]
  },
  {
   "cell_type": "markdown",
   "metadata": {
    "deletable": false,
    "run_control": {
     "frozen": true
    }
   },
   "source": [
    "Skriv en funskjon med to mulige oppførsler som vist under:\n",
    "\n",
    "  \n",
    "```python\n",
    ">>>billettpris(15)\n",
    "  \n",
    "Du kan få minipris: 199,-  \n",
    "```\n",
    "\n",
    "```python\n",
    ">>>billettpris(10)\n",
    "\n",
    "Minipris ikke lenger tilgjengelig, du må betale fullpris: 440,-  \n",
    "```\n",
    "***Skriv koden din under***"
   ]
  },
  {
   "cell_type": "code",
   "execution_count": 2,
   "metadata": {
    "ExecuteTime": {
     "end_time": "2019-07-02T08:22:50.607851Z",
     "start_time": "2019-07-02T08:22:50.600802Z"
    }
   },
   "outputs": [
    {
     "name": "stdout",
     "output_type": "stream",
     "text": [
      "Du kan få minirpis: 100,-\n",
      "Minipris ikke lenger tilgjengelig, du må betale fullpris: 440,-\n"
     ]
    }
   ],
   "source": [
    "def bilettpris(d):\n",
    "    if d >= 15:\n",
    "        print(\"Du kan få minirpis: 199,-\")\n",
    "    else:\n",
    "        print(\"Minipris ikke lenger tilgjengelig, du må betale fullpris: 440,-\")\n",
    "bilettpris(15)\n",
    "bilettpris(10)"
   ]
  },
  {
   "cell_type": "markdown",
   "metadata": {
    "deletable": false,
    "editable": false,
    "run_control": {
     "frozen": true
    }
   },
   "source": [
    "## Oppgave b: frivillig"
   ]
  },
  {
   "cell_type": "markdown",
   "metadata": {
    "deletable": false,
    "run_control": {
     "frozen": true
    }
   },
   "source": [
    "Det hender av og til at kunder ikke ønsker minipris, men heller vil ha fullprisbillett. Dette fordi minipris ikke kan refunderes / endres. Utvid derfor funksjonen så kunder kan legge til informasjon om de ønsker minipris – men kun der det er relevant. To eksempel på kjøring etter utvidelsen:\n",
    "\n",
    "  \n",
    "```python\n",
    ">>>billetpris(15, 'J')\n",
    "\n",
    "Du kan få minipris og ønsker dette, billettpris: 199,-\n",
    "```\n",
    "  \n",
    "```python\n",
    ">>>billetpris(15, 'N')\n",
    "\n",
    "Du kan få minipris, men ønsker ikke det. Da tilbyr vi fullpris: 440,-\n",
    "```\n",
    "\n",
    "***Skriv koden din under***"
   ]
  },
  {
   "cell_type": "code",
   "execution_count": 3,
   "metadata": {},
   "outputs": [
    {
     "name": "stdout",
     "output_type": "stream",
     "text": [
      "Du kan få minirpis og ønsker dette, billettpris: 199,-\n",
      "Du kan få minipris, men ønsker ikke det. Da tilbyr vi fullpris: 440,-\n"
     ]
    }
   ],
   "source": [
    "def bilettpris(d, minpris):\n",
    "    if d >= 15:\n",
    "        if(minpris == \"J\"):\n",
    "            print(\"Du kan få minirpis og ønsker dette, billettpris: 199,-\")\n",
    "        else:\n",
    "            print(\"Du kan få minipris, men ønsker ikke det. Da tilbyr vi fullpris: 440,-\")\n",
    "    else:\n",
    "        print(\"Minipris ikke lenger tilgjengelig, du må betale fullpris: 440,-\")\n",
    "bilettpris(15, \"J\")\n",
    "bilettpris(15, \"N\")"
   ]
  },
  {
   "cell_type": "markdown",
   "metadata": {
    "deletable": false,
    "editable": false,
    "run_control": {
     "frozen": true
    }
   },
   "source": [
    "## Oppgave c: frivillig"
   ]
  },
  {
   "cell_type": "markdown",
   "metadata": {
    "deletable": false,
    "run_control": {
     "frozen": true
    }
   },
   "source": [
    "Det blir besluttet at barn under 16 gis 50% rabatt. Senior (60+), militær i uniform, og student gis 25% rabatt. Om man f.eks. både er 60+ og militær / student, får man likevel bare 25% rabatt. Alle disse rabattene gjelder kun i forhold til fullpris, for minipris gis ingen rabatter. Endre funksjonen så kunder må gi informasjon om alder, evt. også om student / militær, og regner ut riktig pris.\n",
    "\n",
    "Eksempel på kjøring av koden:\n",
    "\n",
    "  \n",
    "```python\n",
    ">>>billettpris(15, 'J', 'militær')\n",
    "\n",
    "Du kan få minipris og ønsker dette, billettpris: 199,-\n",
    "```\n",
    "\n",
    "```python\n",
    ">>>billettpris(15, 'N', 'militær')\n",
    "\n",
    "Du kan få minipris, men ønsker ikke det. Du får rabatt grunnet at du er militær - billettpris: 330,-\n",
    "```\n",
    "\n",
    "```python\n",
    ">>>billettpris(10, 'N', 'barn')\n",
    "\n",
    "Du kan ikke få minipris. Du får rabatt grunnet at du er barn - billettpris: 220,-\n",
    "```"
   ]
  },
  {
   "cell_type": "code",
   "execution_count": 10,
   "metadata": {},
   "outputs": [
    {
     "name": "stdout",
     "output_type": "stream",
     "text": [
      "Du kan få minipris og ønsker dette, billettpris: 199,-\n",
      "Du kan få minipris, men ønsker ikke det. DU får rabatt grunnet at du er militær. Bilettpris: 330.0,-\n",
      "Minipris ikke lenger tilgjengelig, du må betale fullpris. Du får rabatt grunnet at du er barn. Bilettpris: 220.0,-\n"
     ]
    }
   ],
   "source": [
    "def bilettpris(d, minpris, rabatt):\n",
    "    rabatt,rabattKode = getRabatt(rabatt)\n",
    "    if d >= 15:\n",
    "        if(minpris == \"J\"):\n",
    "            print(\"Du kan få minipris og ønsker dette, billettpris: 199,-\")\n",
    "        else:\n",
    "            if(rabattKode == \"ingen\"):\n",
    "                print(\"Du kan få minipris, men ønsker ikke det. Da tilbyr vi fullpris: 440,-\")\n",
    "            else:\n",
    "                print(f\"Du kan få minipris, men ønsker ikke det. DU får rabatt grunnet at du er {rabattKode}. Bilettpris: {440*rabatt},-\")\n",
    "    else:\n",
    "        if(rabattKode == \"ingen\"):\n",
    "            print(\"Minipris ikke lenger tilgjengelig, du må betale fullpris: 440,-\")\n",
    "        else:\n",
    "            print(f\"Minipris ikke lenger tilgjengelig, du må betale fullpris. Du får rabatt grunnet at du er {rabattKode}. Bilettpris: {440*rabatt},-\")\n",
    "\n",
    "def getRabatt(rabatt):\n",
    "    if (rabatt == \"barn\"):\n",
    "        return 0.5,\"barn\"\n",
    "    elif(rabatt == \"student\"):\n",
    "        return 0.75,\"student\"\n",
    "    elif(rabatt == \"honør\"):\n",
    "        return 0.75,\"honør\"\n",
    "    elif (rabatt == \"militær\"):\n",
    "        return 0.75,\"militær\"\n",
    "    else:\n",
    "        return 1,\"ingen\"\n",
    "\n",
    "bilettpris(15, \"J\",\"militær\")\n",
    "bilettpris(15, \"N\", \"militær\")\n",
    "bilettpris(10, \"J\", \"barn\")"
   ]
  },
  {
   "cell_type": "markdown",
   "metadata": {
    "deletable": false,
    "run_control": {
     "frozen": true
    }
   },
   "source": [
    "Du får godkjent oppgaven om du bare har klart a, b og delvis c, men prøv gjerne på denne litt vanskeligere d også.\n",
    "\n",
    "Etter lobbyvirksomhet fra studentorganisasjoner endres reglene på følgende måte: Studenter får også litt rabatt på miniprisbilletter (10%),  samt at personer som både er studenter og militære  / 60+, eller studenter og barn, får to rabatter, og dermed bare betaler 0,75 * 0,75 eller 0.75 * 0.5 av fullpris. Merk at personer som er 60+ og militære, men ikke studenter, eller barn og militære, men ikke studenter, ikke får noen slik multiplisert rabatt, de må fortsatt nøye seg med den ene rabatten de hadde før, og de vanlige 199 for minipris. Endre funksjonen så den fungerer korrekt gitt de nye reglene."
   ]
  }
 ],
 "metadata": {
  "celltoolbar": "Edit Metadata",
  "kernelspec": {
   "display_name": "Python 3",
   "language": "python",
   "name": "python3"
  },
  "language_info": {
   "codemirror_mode": {
    "name": "ipython",
    "version": 3
   },
   "file_extension": ".py",
   "mimetype": "text/x-python",
   "name": "python",
   "nbconvert_exporter": "python",
   "pygments_lexer": "ipython3",
   "version": "3.9.6"
  },
  "toc": {
   "base_numbering": 1,
   "nav_menu": {},
   "number_sections": false,
   "sideBar": true,
   "skip_h1_title": false,
   "title_cell": "Table of Contents",
   "title_sidebar": "Contents",
   "toc_cell": false,
   "toc_position": {},
   "toc_section_display": true,
   "toc_window_display": false
  }
 },
 "nbformat": 4,
 "nbformat_minor": 2
}
