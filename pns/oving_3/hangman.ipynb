{
 "cells": [
  {
   "cell_type": "markdown",
   "metadata": {
    "deletable": false,
    "run_control": {
     "frozen": true
    }
   },
   "source": [
    "**Læringsmål:**\n",
    "\n",
    "* Betingelser\n",
    "* While-løkker\n",
    "\n",
    "\n",
    "Kapittel fire introduserer repetisjonsstrukturer. Dette er en mye brukt programmeringsteknikk som brukes når et program skal utføre den samme oppgaven mange ganger etter hverandre. I denne oppgaven bruker vi en enkel while-løkke for å lage et hangman-spill i Python. \n",
    "\n",
    "Lag et program som tar inn et ord (tekststreng) og antall liv (heltall) fra en bruker, og lar en annen (eller samme) bruker gjette på bokstaver i ordet. "
   ]
  },
  {
   "cell_type": "markdown",
   "metadata": {
    "deletable": false,
    "editable": false,
    "run_control": {
     "frozen": true
    }
   },
   "source": [
    "## Oppgave a: frivillig\n",
    "Start med å hente inn data fra bruker. Lagre dette i to variabler \"hemmelig_ord\" og \"antall_liv\".\n",
    "\n",
    "***Skriv koden din her.***"
   ]
  },
  {
   "cell_type": "code",
   "execution_count": null,
   "metadata": {
    "ExecuteTime": {
     "end_time": "2019-07-03T06:20:10.962975Z",
     "start_time": "2019-07-03T06:20:10.957236Z"
    }
   },
   "outputs": [],
   "source": [
    "\n",
    "\n"
   ]
  },
  {
   "cell_type": "markdown",
   "metadata": {
    "deletable": false,
    "run_control": {
     "frozen": true
    }
   },
   "source": [
    "## Oppgave b: frivillig\n",
    "Utvid koden over med en funksjon, *hangman(hemmelig_ord, antall_liv)*, som inneholder en while-løkke. Din oppgave er å fylle inn manglende logikk i henhold til kravene under: \n",
    "\n",
    "* Hent inn en bokstav fra bruker\n",
    "* Sjekk om denne er i det hemmelige ordet \n",
    "  * Trekk fra et liv dersom brukeren tipper feil\n",
    " * Hvis brukeren ikke har flere liv skal løkken avsluttes (HINT: bruk \"break\" for å avslutte en løkke) \n",
    "\n",
    "PS: Husk å skrive ut resultatet til brukeren. **Du kan bruke variablene du laget i oppgave a uten å skrive dem på nytt** \n",
    "\n",
    "Eksempel på kjøring av kode:\n",
    "\n",
    "```python\n",
    "Skriv inn det hemmelige ordet: hemmelig\n",
    "Hvor mange forsøk får brukeren? 2\n",
    "Gjett på én bokstav i ordet: f\n",
    "Bokstaven f er ikke i ordet.\n",
    "Du har  1 liv igjen, prøv på nytt.\n",
    "Gjett på én bokstav i ordet: h\n",
    "Stemmer, bokstaven er i ordet\n",
    "Gjett på én bokstav i ordet: e\n",
    "Stemmer, bokstaven er i ordet\n",
    "Gjett på én bokstav i ordet: r\n",
    "Bokstaven r er ikke i ordet.\n",
    "Du har ingen liv igjen.\n",
    "```"
   ]
  },
  {
   "cell_type": "code",
   "execution_count": null,
   "metadata": {},
   "outputs": [],
   "source": [
    "while True:\n",
    "    # do something"
   ]
  },
  {
   "cell_type": "code",
   "execution_count": 6,
   "metadata": {},
   "outputs": [
    {
     "name": "stdout",
     "output_type": "stream",
     "text": [
      "Gjett en bokstav i ordet :f\n",
      "bokstaven er ikke i ordet\n",
      "Du har  1 liv igjen\n",
      "Gjett en bokstav i ordet :h\n",
      " Stemmer, bokstaven er i ordet\n",
      "Gjett en bokstav i ordet :e\n",
      " Stemmer, bokstaven er i ordet\n",
      "Gjett en bokstav i ordet :r\n",
      "bokstaven er ikke i ordet\n",
      "Du har  0 liv igjen\n",
      "du har ingen liv igjen\n"
     ]
    }
   ],
   "source": []
  },
  {
   "cell_type": "markdown",
   "metadata": {
    "deletable": false,
    "run_control": {
     "frozen": true
    }
   },
   "source": [
    "## Oppgave c: frivillig\n",
    "**FRIVILLIG vanskeligere oppgave**: Fyll inn logikk for å fullføre spillet. Ting som kan implementeres er:\n",
    "\n",
    "* Avslutt løkken hvis brukeren har gjettet alle bokstavene i løsningsordet.\n",
    "* For hvert gjett, print ut maskert løsningsord med stjerner for hver bokstav som fortsatt ikke er gjettet. `(Eks.: lø*ning*ord)`\n",
    "\n",
    "Du kan fortsette i samme kodefelt som oppgave b."
   ]
  },
  {
   "cell_type": "code",
   "execution_count": 84,
   "metadata": {},
   "outputs": [
    {
     "name": "stdout",
     "output_type": "stream",
     "text": [
      "\n",
      "              \n",
      "            _________\n",
      "            |/      |\n",
      "            |       💀\n",
      "            |      \\|/\n",
      "            |       |\n",
      "            |     _/ |\n",
      "            |\n",
      "            |___\n",
      "              \n",
      "         o  s  t  e  k  a  k  e         \n",
      "Du tapte!\n"
     ]
    }
   ],
   "source": [
    "from IPython.display import clear_output\n",
    "class hangman:\n",
    "    def __init__(self, ord, liv):\n",
    "        self.ord = ord.lower()\n",
    "        self.gjettet = []\n",
    "        self.liv = liv\n",
    "        self.totLiv = liv\n",
    "        self.face = \"😀\"\n",
    "        self.faceList = [\"😀\",\"😐\",\"😕\",\"😡\",\"💀\"]\n",
    "        self.run = True\n",
    "\n",
    "    def print(self):\n",
    "        clear_output(wait=True)\n",
    "        print(f\"\"\"\n",
    "              \n",
    "            _________\n",
    "            |/      |\n",
    "            |       {self.face}\n",
    "            |      \\|/\n",
    "            |       |\n",
    "            |     _/ |\n",
    "            |\n",
    "            |___\n",
    "              \"\"\".center(20))\n",
    "        \n",
    "        res = \"\"\n",
    "\n",
    "        for i in range(len(self.ord)):\n",
    "            if (self.ord[i] in self.gjettet):\n",
    "                res += f\" {self.ord[i]} \"\n",
    "            else:\n",
    "                res += \" _ \"\n",
    "        print(res.center(40))\n",
    "\n",
    "    def start(self):\n",
    "        while(self.run):\n",
    "            g = input(\"Gjett en bosktav eller et ord: \").lower()\n",
    "            self.gjettet.append(g)\n",
    "\n",
    "            hboks = False\n",
    "\n",
    "            for i in range(len(self.ord)):\n",
    "                if (self.ord[i] == g):\n",
    "                    hboks = True\n",
    "\n",
    "            if (g == self.ord):\n",
    "                self.win()\n",
    "\n",
    "            elif hboks:\n",
    "                self.print()\n",
    "                print(\"Riktig!\")\n",
    "    \n",
    "            else:\n",
    "                self.taLiv()\n",
    "\n",
    "    def taLiv(self):\n",
    "        self.liv -= 1\n",
    "\n",
    "        if (self.liv == 0):\n",
    "            self.face = self.faceList[-1]\n",
    "            self.print()\n",
    "            print(\"Du tapte!\")\n",
    "            self.run = False\n",
    "        \n",
    "        else:\n",
    "            self.face = self.faceList[self.totLiv - self.liv - 1]\n",
    "            self.print()\n",
    "\n",
    "    def win(self):\n",
    "\n",
    "        print(f\"\"\"\n",
    "\n",
    "         😁\n",
    "        \\|/\n",
    "         |\n",
    "       _/ |\n",
    "\n",
    "        \"\"\".center(20))\n",
    "\n",
    "        print(f\"Riktig! Ordet var {self.ord}\")\n",
    "        self.run = False\n",
    "\n",
    "a = hangman(\"Ostekake\", 5)\n",
    "a.start()\n",
    "\n"
   ]
  }
 ],
 "metadata": {
  "celltoolbar": "Edit Metadata",
  "kernelspec": {
   "display_name": "Python 3",
   "language": "python",
   "name": "python3"
  },
  "language_info": {
   "codemirror_mode": {
    "name": "ipython",
    "version": 3
   },
   "file_extension": ".py",
   "mimetype": "text/x-python",
   "name": "python",
   "nbconvert_exporter": "python",
   "pygments_lexer": "ipython3",
   "version": "3.9.6"
  },
  "toc": {
   "base_numbering": 1,
   "nav_menu": {},
   "number_sections": false,
   "sideBar": true,
   "skip_h1_title": false,
   "title_cell": "Table of Contents",
   "title_sidebar": "Contents",
   "toc_cell": false,
   "toc_position": {},
   "toc_section_display": true,
   "toc_window_display": false
  }
 },
 "nbformat": 4,
 "nbformat_minor": 2
}
