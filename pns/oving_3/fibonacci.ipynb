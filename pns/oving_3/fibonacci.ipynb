{
 "cells": [
  {
   "cell_type": "markdown",
   "metadata": {
    "deletable": false,
    "run_control": {
     "frozen": true
    }
   },
   "source": [
    "# Fibonacci\n",
    "\n",
    "**Læringsmål:**\n",
    "\n",
    "* Løkker\n",
    "\n",
    "\n",
    "<br><br>\n",
    "I denne oppgaven skal du lage en funksjon som ved help av løkker regner ut fibonaccitall.  \n",
    "\n",
    "Fibonaccitallene er definert som følger: \n",
    "\n",
    "* **f(0)=0**\n",
    "* **f(1)=1**\n",
    "* **f(k)=f(k−1)+f(k−2)**\n",
    "\n",
    "Det vil si at de to første tallene i rekken er 0 og 1, deretter er det neste tallet summen av de to forrige tallene. Starten på rekken ser derfor slik ut: 0 1 1 2 3 5 8 13 ..."
   ]
  },
  {
   "cell_type": "markdown",
   "metadata": {
    "deletable": false,
    "run_control": {
     "frozen": true
    }
   },
   "source": [
    "## Oppgave a: frivillig\n",
    "Lag en funksjon, *fibonacci(k)* som regner ut og returnerer det k-te fibonaccitallet ved hjelp av iterasjon. Du kan sjekke om du har gjort det riktig ved å kalle *fibonacci(10)*. Har du gjort det rett skal funksjonen returnere 55. **Husk at det første tallet i rekken er tall nummer 0**\n",
    "\n",
    "***Skriv koden din her:***"
   ]
  },
  {
   "cell_type": "code",
   "execution_count": 8,
   "metadata": {
    "ExecuteTime": {
     "end_time": "2019-07-03T05:55:08.163277Z",
     "start_time": "2019-07-03T05:55:08.156436Z"
    }
   },
   "outputs": [
    {
     "data": {
      "text/plain": [
       "2"
      ]
     },
     "execution_count": 8,
     "metadata": {},
     "output_type": "execute_result"
    }
   ],
   "source": [
    "\n",
    "def fibonacci(k):\n",
    "    a, b = 0, 1\n",
    "    for i in range(k):\n",
    "        a, b = b, a + b\n",
    "    return a\n",
    "\n",
    "fibonacci(3)\n",
    "\n"
   ]
  },
  {
   "cell_type": "markdown",
   "metadata": {
    "deletable": false,
    "run_control": {
     "frozen": true
    }
   },
   "source": [
    "## Oppgave b: frivillig\n",
    "Skriv om funksjonen i deloppgave a) slik at den også returnerer summen av alle fibonaccitallene. Har du gjort det rett det rett skal kallet til *fibonacci_sum(10)* bli *(34, 88)*."
   ]
  },
  {
   "cell_type": "code",
   "execution_count": 30,
   "metadata": {},
   "outputs": [
    {
     "name": "stdout",
     "output_type": "stream",
     "text": [
      "1 0\n",
      "1 1\n",
      "2 2\n",
      "3 4\n",
      "5 7\n",
      "8 12\n",
      "13 20\n",
      "21 33\n",
      "34 54\n",
      "55 88\n"
     ]
    },
    {
     "data": {
      "text/plain": [
       "(55, 88)"
      ]
     },
     "execution_count": 30,
     "metadata": {},
     "output_type": "execute_result"
    }
   ],
   "source": [
    "\n",
    "def fibonacci_sum(k):\n",
    "    a, b = 0, 1\n",
    "    s = 0\n",
    "    for i in range(k):\n",
    "        s += a\n",
    "        a, b = b, a + b\n",
    "    return a,s\n",
    "\n",
    "fibonacci_sum(10)\n",
    "\n",
    "\n"
   ]
  },
  {
   "cell_type": "markdown",
   "metadata": {
    "deletable": false,
    "run_control": {
     "frozen": true
    }
   },
   "source": [
    "## Oppgave c: frivillig\n",
    "(**Frivillig**, vanskeligere oppgave) Modifiser funksjonen til å returnere en liste med alle fibonaccitallene opp til og med f(k).\n",
    "\n",
    "Kallet *fibonacci_list(10)* skal se ut som følger: \n",
    "*\\[0, 1, 1, 2, 3, 5, 8, 13, 21, 34\\]*"
   ]
  },
  {
   "cell_type": "code",
   "execution_count": null,
   "metadata": {},
   "outputs": [],
   "source": []
  }
 ],
 "metadata": {
  "celltoolbar": "Edit Metadata",
  "kernelspec": {
   "display_name": "Python 3",
   "language": "python",
   "name": "python3"
  },
  "language_info": {
   "codemirror_mode": {
    "name": "ipython",
    "version": 3
   },
   "file_extension": ".py",
   "mimetype": "text/x-python",
   "name": "python",
   "nbconvert_exporter": "python",
   "pygments_lexer": "ipython3",
   "version": "3.9.6"
  },
  "toc": {
   "base_numbering": 1,
   "nav_menu": {},
   "number_sections": false,
   "sideBar": true,
   "skip_h1_title": false,
   "title_cell": "Table of Contents",
   "title_sidebar": "Contents",
   "toc_cell": false,
   "toc_position": {},
   "toc_section_display": true,
   "toc_window_display": false
  }
 },
 "nbformat": 4,
 "nbformat_minor": 2
}
